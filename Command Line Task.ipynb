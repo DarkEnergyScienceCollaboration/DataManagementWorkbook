{
 "metadata": {
  "name": ""
 },
 "nbformat": 3,
 "nbformat_minor": 0,
 "worksheets": [
  {
   "cells": [
    {
     "cell_type": "markdown",
     "metadata": {},
     "source": [
      "#Introduction to Command Line Tasks.\n",
      "#### Written by Chris Walter (chris.walter@duke.edu) of Duke University for the LSST Dark Energy Science Collaboration. Last Updated 08/2013.\n",
      "\n",
      "This IPython notebook is an introduction to the LSST DM stack with a focus on the pipe_base and pipe_task module for making pipeline tasks that run as a program on the command line.\n",
      "\n",
      "Here I will try to show how they work by building up an example program based on what we did before step by step."
     ]
    },
    {
     "cell_type": "markdown",
     "metadata": {},
     "source": [
      "Let's start with our code from before but turn it into a function, compressing it down to essentials."
     ]
    },
    {
     "cell_type": "code",
     "collapsed": false,
     "input": [
      "import lsst.afw.math        as math\n",
      "import lsst.afw.table       as afwTable\n",
      "import lsst.afw.image       as afwImg\n",
      "import lsst.meas.algorithms as measAlg\n",
      "    \n",
      "def processTest():\n",
      "    \"\"\"This function reads sensor data from PhoSim and processes it.\"\"\"\n",
      "\n",
      "    exposure    = afwImg.ExposureF('lsst_e_99999999_f2_R22_S11_E000.fits.gz')\n",
      "    \n",
      "    maskedImage = exposure.getMaskedImage()\n",
      "    image       = maskedImage.getImage()\n",
      "    mask        = maskedImage.getMask()\n",
      "    variance    = maskedImage.getVariance()\n",
      "    \n",
      "    statFlags = math.NPOINT | math.MEAN | math.STDEV | math.MAX | math.MIN | math.ERRORS\n",
      "    control = math.StatisticsControl()\n",
      "     \n",
      "    imageStatistics = math.makeStatistics(maskedImage, statFlags, control)\n",
      "    numBins         = imageStatistics.getResult(math.NPOINT)[0]\n",
      "    mean            = imageStatistics.getResult(math.MEAN)[0]\n",
      "    \n",
      "    print \"The image has dimensions %i x %i pixels\" %(maskedImage.getWidth(), maskedImage.getHeight())\n",
      "    print \"Number of analyzed bins in image is %i\"  %numBins\n",
      "    print \"Max    = %9d\"                            %imageStatistics.getResult(math.MAX)[0]\n",
      "    print \"Min    = %9d\"                            %imageStatistics.getResult(math.MIN)[0]\n",
      "    print \"Mean   = %9.8f +- %3.1f\"                 %imageStatistics.getResult(math.MEAN)\n",
      "    print \"StdDev = %9.2f\"                          %imageStatistics.getResult(math.STDEV)[0]\n",
      "    \n",
      "    # Configure the detection and measurement algorithms\n",
      "    schema                = afwTable.SourceTable.makeMinimalSchema()\n",
      "    detectSourcesConfig   = measAlg.SourceDetectionConfig(thresholdType='value')\n",
      "    measureSourcesConfig  = measAlg.SourceMeasurementConfig()\n",
      "    \n",
      "    # Setup the detection and measurement tasks\n",
      "    detect  = measAlg.SourceDetectionTask  (config=detectSourcesConfig,  schema=schema)\n",
      "    measure = measAlg.SourceMeasurementTask(config=measureSourcesConfig, schema=schema)\n",
      "    \n",
      "    # Detect the sources,then put them into a catalog (the table is where the catalog atually stores stuff)\n",
      "    table   = afwTable.SourceTable.make(schema)\n",
      "    catalog = detect.makeSourceCatalog(table, exposure, sigma=5)\n",
      "    \n",
      "    # Get the sources out of the catalog and apply Measurement routines\n",
      "    sources = catalog.sources\n",
      "    measure.run(exposure, sources)\n",
      "    \n",
      "    # Now let's look at the output from some of the measurment algorithms.\n",
      "    fields = ['centroid.sdss', 'shape.sdss','flux.gaussian']\n",
      "    keys   = [schema.find(f).key for f in fields]\n",
      "    \n",
      "    print \"\\nSources Found:\"\n",
      "    for source in sources:\n",
      "        print \"\\tSource \", source.get('id')\n",
      "        for f,k in zip(fields, keys):\n",
      "            print \"\\t\",f, source.get(k)\n"
     ],
     "language": "python",
     "metadata": {},
     "outputs": [],
     "prompt_number": 94
    },
    {
     "cell_type": "markdown",
     "metadata": {},
     "source": [
      "\n",
      "Now run the function"
     ]
    },
    {
     "cell_type": "code",
     "collapsed": false,
     "input": [
      "processTest()"
     ],
     "language": "python",
     "metadata": {},
     "outputs": [
      {
       "output_type": "stream",
       "stream": "stdout",
       "text": [
        "The image has dimensions 4000 x 4072 pixels\n",
        "Number of analyzed bins in image is 16288000\n",
        "Max    =      1103\n",
        "Min    =         0\n",
        "Mean   = 0.00156667 +- 0.0\n",
        "StdDev =      0.87\n",
        "\n",
        "Sources Found:"
       ]
      },
      {
       "output_type": "stream",
       "stream": "stdout",
       "text": [
        "\n",
        "\tSource  1\n",
        "\tcentroid.sdss (1999.5, 2032.5)\n",
        "\tshape.sdss (ixx=2.88751926897, iyy=3.05814257946, ixy=-0.133327694904)\n",
        "\tflux.gaussian 21410.8483803\n"
       ]
      }
     ],
     "prompt_number": 95
    },
    {
     "cell_type": "markdown",
     "metadata": {},
     "source": [
      "Now we are going to put this code in a class.  This will allow us to split the various pieces up into member functions. There is no difference here compared to what I did before.  It is just organized differently."
     ]
    },
    {
     "cell_type": "code",
     "collapsed": false,
     "input": [
      "import lsst.afw.math        as math\n",
      "import lsst.afw.table       as afwTable\n",
      "import lsst.afw.image       as afwImg\n",
      "import lsst.meas.algorithms as measAlg\n",
      "    \n",
      "class ProcessTest():\n",
      "    \"\"\"This class reads sensor data from PhoSim and processes it.\"\"\"\n",
      "\n",
      "    def readFile(self):\n",
      "        \"\"\"Read the file and make the exposure etc\"\"\"\n",
      "        \n",
      "        self.exposure    = afwImg.ExposureF('lsst_e_99999999_f2_R22_S11_E000.fits.gz')\n",
      "    \n",
      "        self.maskedImage = self.exposure.getMaskedImage()\n",
      "        self.image       = self.maskedImage.getImage()\n",
      "        self.mask        = self.maskedImage.getMask()\n",
      "        self.variance    = self.maskedImage.getVariance()\n",
      "    \n",
      "    def doStats(self):\n",
      "        \"\"\"Do pixel based processing\"\"\"\n",
      "        \n",
      "        statFlags = math.NPOINT | math.MEAN | math.STDEV | math.MAX | math.MIN | math.ERRORS\n",
      "        control = math.StatisticsControl()\n",
      "         \n",
      "        imageStatistics = math.makeStatistics(self.maskedImage, statFlags, control)\n",
      "        numBins         = imageStatistics.getResult(math.NPOINT)[0]\n",
      "        mean            = imageStatistics.getResult(math.MEAN)[0]\n",
      "        \n",
      "        print \"The image has dimensions %i x %i pixels\" %(self.maskedImage.getWidth(), \n",
      "                                                          self.maskedImage.getHeight())\n",
      "        print \"Number of analyzed bins in image is %i\"  %numBins\n",
      "        print \"Max    = %9d\"                            %imageStatistics.getResult(math.MAX)[0]\n",
      "        print \"Min    = %9d\"                            %imageStatistics.getResult(math.MIN)[0]\n",
      "        print \"Mean   = %9.8f +- %3.1f\"                 %imageStatistics.getResult(math.MEAN)\n",
      "        print \"StdDev = %9.2f\"                          %imageStatistics.getResult(math.STDEV)[0]\n",
      "    \n",
      "    def detectAndMeasureSources(self):\n",
      "        \"\"\"Find and measure the sources\"\"\"\n",
      "    \n",
      "        # Configure the detection and measurement algorithms\n",
      "        schema                = afwTable.SourceTable.makeMinimalSchema()\n",
      "        detectSourcesConfig   = measAlg.SourceDetectionConfig(thresholdType='value')\n",
      "        measureSourcesConfig  = measAlg.SourceMeasurementConfig()\n",
      "        \n",
      "        # Setup the detection and measurement tasks\n",
      "        detect  = measAlg.SourceDetectionTask  (config=detectSourcesConfig,  schema=schema)\n",
      "        measure = measAlg.SourceMeasurementTask(config=measureSourcesConfig, schema=schema)\n",
      "        \n",
      "        # Detect the sources,then put them into a catalog (the table is where the catalog atually stores stuff)\n",
      "        table   = afwTable.SourceTable.make(schema)\n",
      "        catalog = detect.makeSourceCatalog(table, self.exposure, sigma=5)\n",
      "        \n",
      "        # Get the sources out of the catalog and apply Measurement routines\n",
      "        sources = catalog.sources\n",
      "        measure.run(self.exposure, sources)\n",
      "        \n",
      "        # Now let's look at the output from some of the measurment algorithms.\n",
      "        fields = ['centroid.sdss', 'shape.sdss','flux.gaussian']\n",
      "        keys   = [schema.find(f).key for f in fields]\n",
      "        \n",
      "        print \"\\nSources Found:\"\n",
      "        for source in sources:\n",
      "            print \"\\tSource \", source.get('id')\n",
      "            for f,k in zip(fields, keys):\n",
      "                print \"\\t\",f, source.get(k)\n",
      "  \n",
      "    def run(self):\n",
      "        self.readFile()\n",
      "        self.doStats()\n",
      "        self.detectAndMeasureSources()"
     ],
     "language": "python",
     "metadata": {},
     "outputs": [],
     "prompt_number": 96
    },
    {
     "cell_type": "markdown",
     "metadata": {},
     "source": [
      "Now run the code. Note carefully how this is done.  First we have to make an instance of the ProcessTestStandSensor class.  That is why there is a \"()\" and then we have to call the run member function."
     ]
    },
    {
     "cell_type": "code",
     "collapsed": false,
     "input": [
      "ProcessTest().run()"
     ],
     "language": "python",
     "metadata": {},
     "outputs": [
      {
       "output_type": "stream",
       "stream": "stdout",
       "text": [
        "The image has dimensions 4000 x 4072 pixels\n",
        "Number of analyzed bins in image is 16288000\n",
        "Max    =      1103\n",
        "Min    =         0\n",
        "Mean   = 0.00156667 +- 0.0\n",
        "StdDev =      0.87\n",
        "\n",
        "Sources Found:"
       ]
      },
      {
       "output_type": "stream",
       "stream": "stdout",
       "text": [
        "\n",
        "\tSource  1\n",
        "\tcentroid.sdss (1999.5, 2032.5)\n",
        "\tshape.sdss (ixx=2.88751926897, iyy=3.05814257946, ixy=-0.133327694904)\n",
        "\tflux.gaussian 21410.8483803\n"
       ]
      }
     ],
     "prompt_number": 97
    },
    {
     "cell_type": "markdown",
     "metadata": {},
     "source": [
      "So, we get the same answer as before.\n",
      "\n",
      "Now we want to do the same thing but we are going to inherit the class we make from a DM class that knows how to get data, read command line arguments, configure things etc.  We are going to start with the most basic class for this: CmdLineTask.  To make it easier to understand let's start by just making a skeleton of what we want to do."
     ]
    },
    {
     "cell_type": "code",
     "collapsed": false,
     "input": [
      "import lsst.pex.config as pexConfig\n",
      "import lsst.pipe.base as pipeBase\n",
      "\n",
      "class ProcessTestConfig(pexConfig.Config):\n",
      "   \"\"\"Config for ProcessTest\"\"\"\n",
      "\n",
      "class ProcessTestTask(pipeBase.CmdLineTask):\n",
      "   ConfigClass = ProcessTestConfig\n",
      "   _DefaultName = \"processTest\"\n",
      "\n",
      "   def _getConfigName(self):\n",
      "       return None\n",
      "\n",
      "   def _getMetadataName(self):\n",
      "       return None\n",
      "\n",
      "   def run(self, sensorRef):\n",
      "       print \"HELLO!\"\n",
      "       self.log.info(\"Processing %s\" % (sensorRef.dataId))    \n",
      "\n",
      "output = ProcessTestTask.parseAndRun(args=['/Users/walter/LSST/iPython/testDir/imSim/PT1.2','--id','visit=99999999'])"
     ],
     "language": "python",
     "metadata": {},
     "outputs": [
      {
       "output_type": "stream",
       "stream": "stdout",
       "text": [
        "HELLO!\n"
       ]
      }
     ],
     "prompt_number": 98
    },
    {
     "cell_type": "markdown",
     "metadata": {},
     "source": [
      "There are several things to note here. First of all you see I had to make a ProcessTestConfig class. It inherits from pexConfig.Config.  Then I also had to make a task (which I called ProcessTestTask) which inherits from pipeBase.CmdLineTask.  \n",
      "\n",
      "Those two classes give me the basics I need to read data, configure algorithms etc.\n",
      "\n",
      "Next, you notice I had to:\n",
      "\n",
      "1) Tell ProcessTestTask which class to use to configure itself and give it a name.\n",
      "\n",
      "2) Add a few functions which return None.  This is due to a present inability of DM to    deal with standalone Command line tasks which aren't in the core code.  You can read this thread for more information: http://listserv.lsstcorp.org/pipermail/lsst-dm-stack-users/2013-August/123.html\n",
      "\n",
      "3) Add a run routine like before that will do the work.\n",
      "\n",
      "But, look closely at the run routine.  It takes a sensorRef which is a reference to data returned by a dataButler which is a way of abstracting the access to the data so you don't refer directly to file names etc.\n",
      "\n",
      "Look here https://dev.lsstcorp.org/trac/wiki/v62_processCCD_data to learn more about the dataButler.\n",
      "\n",
      "Also, look at how the test is run with the \"ParseAndRun\" routine.  ParseAndRun comes from the base class CmdLineTask we inherited from. \n",
      "\n",
      "Notice there is no \"()\" after ProcessTestTask.  That is because we are not instantiating it.  It is a static class member function (in C++ language) and there is only one instance of it for all instances of the class that use it.  So, we don't need to make one.  \n",
      "\n",
      "Next notice the argument list.  First of all, if it was empty ParseAndRun would use the standard command line arguments so I could just call it like this from the commandline:\n",
      "\n",
      "ProcessTestTask.parseAndRun() /Users/walter/LSST/iPython/testDir/imSim/PT1.2 --Id visit=99999999\n",
      "\n",
      "What happens when I run this is that it takes the information on the command line, produces a dataButler and then gives us a reference to it.  That is what the sensorRef is all about.  The PhoSim demo you ran before should have explained what to do to get yourfiles into the correct directory structure.\n",
      "\n",
      "Now, let's take the program we had before and wrap it in a commandline task."
     ]
    },
    {
     "cell_type": "code",
     "collapsed": false,
     "input": [
      "import lsst.afw.math        as math\n",
      "import lsst.afw.table       as afwTable\n",
      "import lsst.afw.image       as afwImg\n",
      "import lsst.meas.algorithms as measAlg\n",
      " \n",
      "import lsst.pex.config as pexConfig\n",
      "import lsst.pipe.base  as pipeBase\n",
      "\n",
      "class ProcessTestConfig(pexConfig.Config):\n",
      "    \"\"\"Config for ProcessTest\"\"\"\n",
      "    \n",
      "class ProcessTest(pipeBase.CmdLineTask):\n",
      "    \"\"\"This class reads sensor data from PhoSim.\"\"\"\n",
      "\n",
      "    ConfigClass = ProcessTestConfig\n",
      "    _DefaultName = \"processTest\"\n",
      "    dataPrefix = \"\"\n",
      "    \n",
      "    def _getConfigName(self):\n",
      "        return None\n",
      "\n",
      "    def _getMetadataName(self):\n",
      "        return None\n",
      "\n",
      "    def readFile(self, sensorRef):\n",
      "        \"\"\"Read the file and make the exposure etc\"\"\"\n",
      "        \n",
      "        print \"Reading %s\"%(sensorRef.dataId)\n",
      "        print sensorRef\n",
      "        \n",
      "        self.exposure    = sensorRef.get('eimage')\n",
      "        self.maskedImage = self.exposure.getMaskedImage()\n",
      "        self.image       = self.maskedImage.getImage()\n",
      "        self.mask        = self.maskedImage.getMask()\n",
      "        self.variance    = self.maskedImage.getVariance()\n",
      "    \n",
      "    def doStats(self):\n",
      "        \"\"\"Do pixel based processing\"\"\"\n",
      "        \n",
      "        statFlags = math.NPOINT | math.MEAN | math.STDEV | math.MAX | math.MIN | math.ERRORS\n",
      "        control = math.StatisticsControl()\n",
      "         \n",
      "        imageStatistics = math.makeStatistics(self.maskedImage, statFlags, control)\n",
      "        numBins         = imageStatistics.getResult(math.NPOINT)[0]\n",
      "        mean            = imageStatistics.getResult(math.MEAN)[0]\n",
      "        \n",
      "        print \"The image has dimensions %i x %i pixels\" %(self.maskedImage.getWidth(), \n",
      "                                                          self.maskedImage.getHeight())\n",
      "        print \"Number of analyzed bins in image is %i\"  %numBins\n",
      "        print \"Max    = %9d\"                            %imageStatistics.getResult(math.MAX)[0]\n",
      "        print \"Min    = %9d\"                            %imageStatistics.getResult(math.MIN)[0]\n",
      "        print \"Mean   = %9.8f +- %3.1f\"                 %imageStatistics.getResult(math.MEAN)\n",
      "        print \"StdDev = %9.2f\"                          %imageStatistics.getResult(math.STDEV)[0]\n",
      "    \n",
      "    def detectAndMeasureSources(self):\n",
      "        \"\"\"Find and measure the sources\"\"\"\n",
      "    \n",
      "        # Configure the detection and measurement algorithms\n",
      "        schema                = afwTable.SourceTable.makeMinimalSchema()\n",
      "        detectSourcesConfig   = measAlg.SourceDetectionConfig(thresholdType='value')\n",
      "        measureSourcesConfig  = measAlg.SourceMeasurementConfig()\n",
      "        \n",
      "        # Setup the detection and measurement tasks\n",
      "        detect  = measAlg.SourceDetectionTask  (config=detectSourcesConfig,  schema=schema)\n",
      "        measure = measAlg.SourceMeasurementTask(config=measureSourcesConfig, schema=schema)\n",
      "        \n",
      "        # Detect the sources,then put them into a catalog (the table is where the catalog atually stores stuff)\n",
      "        table   = afwTable.SourceTable.make(schema)\n",
      "        catalog = detect.makeSourceCatalog(table, self.exposure, sigma=5)\n",
      "        \n",
      "        # Get the sources out of the catalog and apply Measurement routines\n",
      "        sources = catalog.sources\n",
      "        measure.run(self.exposure, sources)\n",
      "        \n",
      "        # Now let's look at the output from some of the measurment algorithms.\n",
      "        fields = ['centroid.sdss', 'shape.sdss','flux.gaussian']\n",
      "        keys   = [schema.find(f).key for f in fields]\n",
      "        \n",
      "        print \"\\nSources Found:\"\n",
      "        for source in sources:\n",
      "            print \"\\tSource \", source.get('id')\n",
      "            for f,k in zip(fields, keys):\n",
      "                print \"\\t\",f, source.get(k)\n",
      "  \n",
      "    def run(self, sensorRef):\n",
      "        self.readFile(sensorRef)\n",
      "        self.doStats()\n",
      "        self.detectAndMeasureSources()"
     ],
     "language": "python",
     "metadata": {},
     "outputs": [],
     "prompt_number": 99
    },
    {
     "cell_type": "markdown",
     "metadata": {},
     "source": [
      "Now let's run it again.  It should actually do exactly the same thing that I did before. I made two changes in how I accessed the data. I passed the sensorRef to my read routine, printed it out and then used it to open the file which exists in the directory structure. This may not seem like a big difference, but in principle now I could open the data from somwhere else on the net, or from another type of camera with a different naming structure etc, without changing my code.\n"
     ]
    },
    {
     "cell_type": "code",
     "collapsed": false,
     "input": [
      "dDir = '/Users/walter/LSST/iPython/testDir/imSim/PT1.2'\n",
      "output = ProcessTestStandSensor.parseAndRun(args=[dDir,'--id','visit=99999999'])"
     ],
     "language": "python",
     "metadata": {},
     "outputs": [
      {
       "output_type": "stream",
       "stream": "stdout",
       "text": [
        "Reading {'filter': 'r', 'sensor': '1,1', 'visit': 99999999, 'raft': '2,2'}\n",
        "<lsst.daf.persistence.butlerSubset.ButlerDataRef object at 0x116077890>\n",
        "The image has dimensions 4000 x 4072 pixels"
       ]
      },
      {
       "output_type": "stream",
       "stream": "stdout",
       "text": [
        "\n",
        "Number of analyzed bins in image is 16288000\n",
        "Max    =      1103\n",
        "Min    =         0\n",
        "Mean   = 0.00156667 +- 0.0\n",
        "StdDev =      0.87\n",
        "\n",
        "Sources Found:"
       ]
      },
      {
       "output_type": "stream",
       "stream": "stdout",
       "text": [
        "\n",
        "\tSource  1\n",
        "\tcentroid.sdss (1999.5, 2032.5)\n",
        "\tshape.sdss (ixx=2.88751926897, iyy=3.05814257946, ixy=-0.133327694904)\n",
        "\tflux.gaussian 21410.8483803\n"
       ]
      }
     ],
     "prompt_number": 100
    },
    {
     "cell_type": "markdown",
     "metadata": {},
     "source": [
      "OK, finally, we are going to look at how routines like processCcd.py work.  They don't inherit from CmdLineTask.  They inherit from ProcessImage.  *ProcessImage* inherits from CmdLineTask.  This means we get all of the stuff from before + new routines in that class.  The thing that is added in ProcessImage is all of the basic routines for sensor cleanup detection and measurement.  To use it requires setting some config parameters which I won't do here but let me show you how it works."
     ]
    },
    {
     "cell_type": "code",
     "collapsed": false,
     "input": [
      "import lsst.afw.math        as math\n",
      "import lsst.afw.table       as afwTable\n",
      "import lsst.afw.image       as afwImg\n",
      "import lsst.meas.algorithms as measAlg\n",
      " \n",
      "import lsst.pex.config as pexConfig\n",
      "import lsst.pipe.base  as pipeBase\n",
      "\n",
      "class ProcessTestConfig(ProcessImageTask.ConfigClass):\n",
      "    \"\"\"Config for ProcessTest\"\"\"\n",
      "    \n",
      "class ProcessTest(ProcessImageTask):\n",
      "    \"\"\"This class reads sensor data from either PhoSim or a teststand setup and \n",
      "    processes it.\"\"\"\n",
      "\n",
      "    ConfigClass = ProcessTestConfig\n",
      "    _DefaultName = \"processTest\"\n",
      "    dataPrefix = \"\"\n",
      "    \n",
      "    def _getConfigName(self):\n",
      "        return None\n",
      "\n",
      "    def _getMetadataName(self):\n",
      "        return None\n",
      "\n",
      "    #necessary for ProcessImage\n",
      "    def makeIdFactory(self, sensorRef):\n",
      "        return None\n",
      "    \n",
      "    def readFile(self, sensorRef):\n",
      "        \"\"\"Read the file and make the exposure etc\"\"\"\n",
      "        \n",
      "        print \"Reading %s\"%(sensorRef.dataId)\n",
      "        print sensorRef\n",
      "        \n",
      "        self.exposure    = sensorRef.get('eimage')\n",
      "        self.maskedImage = self.exposure.getMaskedImage()\n",
      "        self.image       = self.maskedImage.getImage()\n",
      "        self.mask        = self.maskedImage.getMask()\n",
      "        self.variance    = self.maskedImage.getVariance()\n",
      "    \n",
      "    def doStats(self):\n",
      "        \"\"\"Do pixel based processing\"\"\"\n",
      "        \n",
      "        statFlags = math.NPOINT | math.MEAN | math.STDEV | math.MAX | math.MIN | math.ERRORS\n",
      "        control = math.StatisticsControl()\n",
      "         \n",
      "        imageStatistics = math.makeStatistics(self.maskedImage, statFlags, control)\n",
      "        numBins         = imageStatistics.getResult(math.NPOINT)[0]\n",
      "        mean            = imageStatistics.getResult(math.MEAN)[0]\n",
      "        \n",
      "        print \"The image has dimensions %i x %i pixels\" %(self.maskedImage.getWidth(), \n",
      "                                                          self.maskedImage.getHeight())\n",
      "        print \"Number of analyzed bins in image is %i\"  %numBins\n",
      "        print \"Max    = %9d\"                            %imageStatistics.getResult(math.MAX)[0]\n",
      "        print \"Min    = %9d\"                            %imageStatistics.getResult(math.MIN)[0]\n",
      "        print \"Mean   = %9.8f +- %3.1f\"                 %imageStatistics.getResult(math.MEAN)\n",
      "        print \"StdDev = %9.2f\"                          %imageStatistics.getResult(math.STDEV)[0]\n",
      "    \n",
      "    def detectAndMeasureSources(self):\n",
      "        \"\"\"Find and measure the sources\"\"\"\n",
      "        \n",
      "        # Let processImage do the work!\n",
      "        result = self.process(sensorRef, self.exposure)\n",
      "    \n",
      "    def run(self, sensorRef):\n",
      "        self.readFile(sensorRef)\n",
      "        self.doStats()\n",
      "        self.detectAndMeasureSources()"
     ],
     "language": "python",
     "metadata": {},
     "outputs": [],
     "prompt_number": 101
    },
    {
     "cell_type": "markdown",
     "metadata": {},
     "source": [
      "I'm not going to run this, since all of the commandline options and Config settings are awkward to do in the notebook but you can see how it works.  Inherit from Process Image (which inherits from CmdLineTask), do all the extra stuff you want to do, then let ProcessImage.process do the detection and measurment etc.\n",
      "\n",
      "This should give you enough of an understanding of the structure of a pipe_task to look at the internals of one, or write one yourself. \n",
      "\n",
      "So now, when you see something like:\n",
      "\n",
      "processCcdSdss.py sdss /lsst7/stripe82/dr7/runs --id run=1033 camcol=2 field=111 filter=g --output /nfs/lsst7/stripe82/dr7-coadds/v1/run2\n",
      "\n",
      "you have an idea of what is going on.  \n",
      "\n",
      "One other thing for understanding the examples actually distributed with DM:  A binary like processCcdSdss.py is in the package \"bin\" directory. It loads the class which is located in the package's \"python\" directory unlike my monolithic examples above.  "
     ]
    }
   ],
   "metadata": {}
  }
 ]
}